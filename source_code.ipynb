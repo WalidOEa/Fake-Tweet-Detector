{
 "cells": [
  {
   "cell_type": "markdown",
   "id": "bddb1dc6-b96d-49cb-80f4-a63a1acf3ce1",
   "metadata": {},
   "source": [
    "<h1>Imports</h1>\n",
    "Import libraries for pre-processing, feature selection, dimension reduction, model training and performance metrics."
   ]
  },
  {
   "cell_type": "code",
   "execution_count": 1,
   "id": "91abab46-8dfc-4f0b-81eb-013750fbe252",
   "metadata": {},
   "outputs": [
    {
     "name": "stderr",
     "output_type": "stream",
     "text": [
      "[nltk_data] Downloading package stopwords to /Users/wal/nltk_data...\n",
      "[nltk_data]   Package stopwords is already up-to-date!\n",
      "[nltk_data] Downloading package words to /Users/wal/nltk_data...\n",
      "[nltk_data]   Package words is already up-to-date!\n",
      "[nltk_data] Downloading package wordnet to /Users/wal/nltk_data...\n",
      "[nltk_data]   Package wordnet is already up-to-date!\n"
     ]
    },
    {
     "data": {
      "text/plain": [
       "True"
      ]
     },
     "execution_count": 1,
     "metadata": {},
     "output_type": "execute_result"
    }
   ],
   "source": [
    "import re, nltk, langid\n",
    "\n",
    "import numpy as np\n",
    "import pandas as pd\n",
    "import mtranslate as mt\n",
    "import seaborn as sns\n",
    "import matplotlib.pyplot as plt\n",
    "\n",
    "from nltk.corpus import stopwords\n",
    "from nltk.tokenize import word_tokenize\n",
    "from nltk.stem.porter import PorterStemmer\n",
    "from nltk.stem import WordNetLemmatizer\n",
    "from nltk.tokenize import TweetTokenizer\n",
    "\n",
    "from bs4 import BeautifulSoup\n",
    "\n",
    "from sklearn.preprocessing import LabelEncoder\n",
    "from sklearn.feature_extraction.text import TfidfVectorizer, CountVectorizer\n",
    "from sklearn.svm import SVC\n",
    "from sklearn.naive_bayes import MultinomialNB\n",
    "from sklearn.linear_model import LogisticRegression, SGDClassifier\n",
    "from sklearn.metrics import accuracy_score, precision_score, recall_score, f1_score, confusion_matrix\n",
    "from sklearn.model_selection import GridSearchCV, RandomizedSearchCV\n",
    "from sklearn.neighbors import KNeighborsClassifier\n",
    "\n",
    "from scipy.stats import uniform, randint\n",
    "\n",
    "nltk.download('stopwords')\n",
    "nltk.download('words')\n",
    "nltk.download('wordnet')\n",
    "nltk.download('punkt')"
   ]
  },
  {
   "cell_type": "markdown",
   "id": "bd40e3cc-dd04-4c68-b85b-8e4aa49bfcdf",
   "metadata": {},
   "source": [
    "<h1>Pipeline 1</h1>"
   ]
  },
  {
   "cell_type": "markdown",
   "id": "e1ccfdc9-43f1-4d41-9a7b-c35b60ab1c97",
   "metadata": {},
   "source": [
    "<h2>Reading</h2>"
   ]
  },
  {
   "cell_type": "markdown",
   "id": "949c565d-7fad-48cf-9042-0699f17032a9",
   "metadata": {},
   "source": [
    "Read tab seperated files and store them into dataframe."
   ]
  },
  {
   "cell_type": "code",
   "execution_count": 2,
   "id": "5af8e66e-931f-4fe0-82d4-6c2b73672490",
   "metadata": {},
   "outputs": [],
   "source": [
    "mediaeval_train = pd.read_csv('mediaeval-2015-trainingset.txt', sep='\\\\t', engine='python')\n",
    "mediaeval_test = pd.read_csv('mediaeval-2015-testset.txt', sep='\\\\t', engine='python')"
   ]
  },
  {
   "cell_type": "markdown",
   "id": "e205cec7-e8ad-4b95-bcec-0f59aa419ce3",
   "metadata": {},
   "source": [
    "<h2>Pre-Processing</h2>\n",
    "Remove irrelevant features from both datasets."
   ]
  },
  {
   "cell_type": "code",
   "execution_count": 3,
   "id": "bc10c4b0-4a8c-43dc-829c-2b56b68a4743",
   "metadata": {},
   "outputs": [],
   "source": [
    "def remove_columns(df):\n",
    "    df.drop(['tweetId'], axis=1, inplace=True)\n",
    "    df.drop(['userId'], axis=1, inplace=True)\n",
    "    df.drop(['imageId(s)'], axis=1, inplace=True)\n",
    "    df.drop(['username'], axis=1, inplace=True)\n",
    "    df.drop(['timestamp'], axis=1, inplace=True)\n",
    "\n",
    "remove_columns(mediaeval_train)\n",
    "remove_columns(mediaeval_test)"
   ]
  },
  {
   "cell_type": "markdown",
   "id": "f327e95d-fa4a-4ffc-81c1-25ec167fc9ca",
   "metadata": {},
   "source": [
    "Non-English tweets were originally translated from train set; however, this had a negative impact. So instead, only English tweets are retained in the dataset."
   ]
  },
  {
   "cell_type": "code",
   "execution_count": 4,
   "id": "7bf8bfbc-c61c-4250-a3d8-4e8ebd54987a",
   "metadata": {},
   "outputs": [],
   "source": [
    "#tweets_texts = [mt.translate(tweet, 'en') for tweet in tweet_texts]\n",
    "\n",
    "# translating from English is too computationally expensive and takes time\n",
    "#tweet_texts = [tweet for tweet in tweet_texts if langid.classify(tweet)[0] == 'en']\n",
    "\n",
    "is_english = lambda x: langid.classify(x)[0] == 'en' # classify language as english or not\n",
    "mediaeval_train = mediaeval_train[mediaeval_train['tweetText'].apply(is_english)] # filter non-english tweets"
   ]
  },
  {
   "cell_type": "markdown",
   "id": "53b4c31e-15f5-4bce-abae-29121086abc8",
   "metadata": {},
   "source": [
    "All uppercase characters are converted into their lowercase counterpart."
   ]
  },
  {
   "cell_type": "code",
   "execution_count": 5,
   "id": "d27fb15b-d574-4402-8dfc-32114de535f8",
   "metadata": {},
   "outputs": [],
   "source": [
    "def convert_to_lower(tweet_text):\n",
    "    return tweet_text.lower()\n",
    "\n",
    "mediaeval_train['tweetText'] = mediaeval_train['tweetText'].map(convert_to_lower)\n",
    "mediaeval_test['tweetText'] = mediaeval_test['tweetText'].map(convert_to_lower)"
   ]
  },
  {
   "cell_type": "markdown",
   "id": "6a58ea8e-e92b-40af-8d25-a91ecf94a46d",
   "metadata": {},
   "source": [
    "Next, the text needs to be cleaned of any invalid data that contributes to the noise of the dataset."
   ]
  },
  {
   "cell_type": "code",
   "execution_count": 6,
   "id": "4bdbede1-66d8-4731-baa3-a5ef171dd573",
   "metadata": {},
   "outputs": [
    {
     "name": "stderr",
     "output_type": "stream",
     "text": [
      "/var/folders/d3/pp72ynv541ncyrk24k0dw9wc0000gn/T/ipykernel_7250/882304478.py:3: MarkupResemblesLocatorWarning: The input looks more like a filename than markup. You may want to open this file and pass the filehandle into Beautiful Soup.\n",
      "  cleaned_tweet = BeautifulSoup(tweet_text, 'html.parser').get_text().replace('\\\\n', '')\n",
      "/var/folders/d3/pp72ynv541ncyrk24k0dw9wc0000gn/T/ipykernel_7250/882304478.py:3: MarkupResemblesLocatorWarning: The input looks more like a URL than markup. You may want to use an HTTP client like requests to get the document behind the URL, and feed that document to Beautiful Soup.\n",
      "  cleaned_tweet = BeautifulSoup(tweet_text, 'html.parser').get_text().replace('\\\\n', '')\n"
     ]
    }
   ],
   "source": [
    "def clean_tweet(tweet_text):\n",
    "    # remove html artefacts from text\n",
    "    cleaned_tweet = BeautifulSoup(tweet_text, 'html.parser').get_text().replace('\\\\n', '')\n",
    "\n",
    "    # remove URLs\n",
    "    cleaned_tweet = re.sub(r'http\\S+', '', cleaned_tweet)\n",
    "    cleaned_tweet = re.sub(r'\\\\(\\S)*', '', cleaned_tweet)\n",
    "    \n",
    "    # remove non-ASCII characters (e.g. emojis)\n",
    "    cleaned_tweet = re.sub(r'[^\\x00-\\x7F]+', '', cleaned_tweet)\n",
    "    \n",
    "    # remove twitter mentions\n",
    "    cleaned_tweet = re.sub(r'@\\w+', '', cleaned_tweet)\n",
    "\n",
    "    return cleaned_tweet\n",
    "\n",
    "mediaeval_train['tweetText'] = mediaeval_train['tweetText'].apply(clean_tweet)\n",
    "mediaeval_test['tweetText'] = mediaeval_test['tweetText'].apply(clean_tweet)"
   ]
  },
  {
   "cell_type": "markdown",
   "id": "9c02ea2d-98ed-4a4c-bae0-a40eac88a33b",
   "metadata": {},
   "source": [
    "Remove punctuation."
   ]
  },
  {
   "cell_type": "code",
   "execution_count": 7,
   "id": "93f41a19-b76b-4820-a367-2603515a7a43",
   "metadata": {},
   "outputs": [],
   "source": [
    "def remove_punctuation(tweet_text):\n",
    "    return re.sub(r'\\s+', ' ', re.sub(r'(?![#@])[^a-zA-Z0-9\\s]', '', tweet_text)).strip() # remove excess whitespace\n",
    "\n",
    "mediaeval_train['tweetText'] = mediaeval_train['tweetText'].apply(remove_punctuation)\n",
    "mediaeval_test['tweetText'] = mediaeval_test['tweetText'].apply(remove_punctuation)"
   ]
  },
  {
   "cell_type": "markdown",
   "id": "cd113a6d-6296-41e9-a829-b4c7b88dbcc5",
   "metadata": {},
   "source": [
    "Attempt to detect the most popular languages and convert them only. This was considered but offered no improvement to performance. This maybe because the model became too tuned on a subset of languages and failed to generalise well against newer languages."
   ]
  },
  {
   "cell_type": "code",
   "execution_count": 8,
   "id": "edb58e92-781d-4758-8f04-89bab6e7f594",
   "metadata": {},
   "outputs": [],
   "source": [
    "#def detect_language(tweet):\n",
    "#    return langid.classify(tweet)[0]\n",
    "\n",
    "#mediaeval_train['tweetLanguage'] = mediaeval_train['tweetText'].apply(detect_language)\n",
    "\n",
    "#top_languages = mediaeval_train['tweetLanguage'].value_counts().head(10)\n",
    "\n",
    "#print(top_languages)\n",
    "#print(stopwords.fileids())"
   ]
  },
  {
   "cell_type": "markdown",
   "id": "d9cf8a71-eb19-49a0-92f4-229ecd68c18f",
   "metadata": {},
   "source": [
    "Stop words and twitter artefacts are to be eliminated from the text to reduce the dimensions of the matrix."
   ]
  },
  {
   "cell_type": "code",
   "execution_count": 9,
   "id": "71ef737d-eed3-4ed0-856b-60cc8ce10e99",
   "metadata": {},
   "outputs": [],
   "source": [
    "def remove_stopwords(tweet_text):\n",
    "    stop_words = set()\n",
    "    twitter_words = ['rt']\n",
    "    \n",
    "    languages = stopwords.fileids()\n",
    "\n",
    "    # remove stopwords and twitter words from all languages available\n",
    "    for lang in languages:\n",
    "        stop_words.update(stopwords.words(lang))\n",
    "    stop_words.update(set(twitter_words))\n",
    "    \n",
    "    tokens = word_tokenize(tweet_text)\n",
    "    tweet_text = ' '.join([word for word in tokens if word not in stop_words])\n",
    "\n",
    "    return tweet_text\n",
    "\n",
    "mediaeval_train['tweetText'] = mediaeval_train['tweetText'].apply(remove_stopwords)\n",
    "mediaeval_test['tweetText'] = mediaeval_test['tweetText'].apply(remove_stopwords)"
   ]
  },
  {
   "cell_type": "markdown",
   "id": "afbbc292-82c9-4dfb-9101-c62991221d5d",
   "metadata": {},
   "source": [
    "Remove duplicate rows from dataframes. This worsens performance as it may have reduced the size of the training data, preventing the model from generalising well on the test data. This is no longer used as a result."
   ]
  },
  {
   "cell_type": "code",
   "execution_count": 10,
   "id": "7e95cf22-1507-4ed6-8144-111e449ebb99",
   "metadata": {},
   "outputs": [],
   "source": [
    "#def remove_duplicates(df):\n",
    "#    df.drop_duplicates(subset=['tweetText'], inplace=True)\n",
    "\n",
    "# worsens f1 score significantly\n",
    "#remove_duplicates(mediaeval_train)\n",
    "#remove_duplicates(mediaeval_test)"
   ]
  },
  {
   "cell_type": "markdown",
   "id": "ac807240-e79a-41d9-a56a-f851a8ec8609",
   "metadata": {},
   "source": [
    "Add pre-processed tweets to the dataframe and tweets labeled as <i>humor</i> will be converted into <i>fake</i>."
   ]
  },
  {
   "cell_type": "code",
   "execution_count": 11,
   "id": "1dfe370e-29b3-4120-b711-93249d162f28",
   "metadata": {},
   "outputs": [],
   "source": [
    "def convert_humour(df):\n",
    "    df['label'] = df['label'].replace('humor', 'fake')\n",
    "    return df\n",
    "    \n",
    "mediaeval_train = convert_humour(mediaeval_train)\n",
    "mediaeval_test = convert_humour(mediaeval_test)"
   ]
  },
  {
   "cell_type": "markdown",
   "id": "ce3b42d0-ed05-469f-96a6-31f3c344c406",
   "metadata": {},
   "source": [
    "<h2>Model Training</h2>"
   ]
  },
  {
   "cell_type": "code",
   "execution_count": 12,
   "id": "7c52c76a-aeae-49e5-b81e-f55897aa3d52",
   "metadata": {
    "scrolled": true
   },
   "outputs": [],
   "source": [
    "# -------------      Parameter Grid      ------------- #\n",
    "param_grid = {\n",
    "    'C': [0.1, 1, 10],\n",
    "    'gamma': ['scale', 'auto'],\n",
    "}\n",
    "\n",
    "# -------------      Training & Testing Data      ------------- #\n",
    "x_train, y_train = mediaeval_train['tweetText'], mediaeval_train['label']\n",
    "x_test, y_test = mediaeval_test['tweetText'], mediaeval_test['label']\n",
    "\n",
    "# encode labels into values\n",
    "label_encoder = LabelEncoder()\n",
    "y_train = label_encoder.fit_transform(y_train)\n",
    "y_test = label_encoder.transform(y_test)\n",
    "\n",
    "# -------------      Count Vectoriser      ------------- #\n",
    "#vectoriser = CountVectorizer()\n",
    "\n",
    "#x_train = vectoriser.fit_transform(x_train)\n",
    "#x_test = vectoriser.transform(x_test)\n",
    "\n",
    "# -------------      TF-IDF Vectoriser      ------------- #\n",
    "tfidf_vectoriser = TfidfVectorizer()\n",
    "\n",
    "x_train = tfidf_vectoriser.fit_transform(x_train)\n",
    "x_test = tfidf_vectoriser.transform(x_test)\n",
    "\n",
    "# -------------      Estimator       ------------- #\n",
    "svc_classifier = SVC()\n",
    "\n",
    "grid_search = GridSearchCV(svc_classifier, param_grid, cv=4, scoring='f1', n_jobs=-1)\n",
    "grid_search.fit(x_train, y_train)\n",
    "\n",
    "# obtain best parameters\n",
    "best_params_svc = grid_search.best_params_\n",
    "\n",
    "# -------------      Estimator       ------------- #\n",
    "# took too long -> most likely due to ill-defined search space\n",
    "#random_search = RandomizedSearchCV(pipeline, param_distributions=param_dist, n_iter=10, cv=5, scoring='f1')\n",
    "#random_search.fit(x_test, y_test)\n",
    "\n",
    "#print(random_search.best_estimator_.steps)\n",
    "\n",
    "#best_params_tfidf = random_search.best_estimator_.named_steps['tfidf'].get_params()\n",
    "#best_params_svc = random_search.best_estimator_.named_steps['svc'].get_params()\n",
    "\n",
    "# -------------      TF-IDF Vectoriser      ------------- #\n",
    "# experimented with hyperparameters, no substantial performance improvement\n",
    "#tfidf_vectoriser = TfidfVectorizer(min_df=2, max_df=0.1, max_features=4700, ngram_range=(1,2))\n",
    "\n",
    "#x_train = tfidf_vectoriser.fit_transform(x_train)\n",
    "#x_test = tfidf_vectoriser.transform(x_test)\n",
    "\n",
    "# -------------      Logistic Regression      ------------- #\n",
    "#lr_classifier = LogisticRegression()\n",
    "\n",
    "#lr_classifier.fit(x_train, y_train)\n",
    "#y_pred = lr_classifier.predict(x_test)\n",
    "\n",
    "# -------------      Support Vector Machine #1      ------------- #\n",
    "#svc_classifier = SVC()\n",
    "\n",
    "#svc_classifier.fit(x_train, y_train)\n",
    "#y_pred = svc_classifier.predict(x_test)\n",
    "\n",
    "# -------------      Support Vector Machine #2      ------------- #\n",
    "svc_classifier = SVC(**best_params_svc)\n",
    "svc_classifier.fit(x_train, y_train)\n",
    "\n",
    "y_pred = svc_classifier.predict(x_test)"
   ]
  },
  {
   "cell_type": "markdown",
   "id": "d699a5cc-d6a2-42d6-b7dc-0f4df8936cda",
   "metadata": {},
   "source": [
    "<h2>Evaluation</h2>"
   ]
  },
  {
   "cell_type": "code",
   "execution_count": 13,
   "id": "c0fc571e-4c6a-4882-aeda-1f30fca5b85a",
   "metadata": {},
   "outputs": [
    {
     "name": "stdout",
     "output_type": "stream",
     "text": [
      "Accuracy: 0.7839195979899497\n",
      "Precision: 0.8647181628392484\n",
      "Recall: 0.8077223088923557\n",
      "F1 Score: 0.8352490421455938\n"
     ]
    },
    {
     "data": {
      "image/png": "[encoded data removed]",
      "text/plain": [
       "<Figure size 400x300 with 2 Axes>"
      ]
     },
     "metadata": {},
     "output_type": "display_data"
    }
   ],
   "source": [
    "# decode values into labels\n",
    "y_test = label_encoder.inverse_transform(y_test)\n",
    "y_pred = label_encoder.inverse_transform(y_pred)\n",
    "\n",
    "# -------------      Evaluation      ------------- #\n",
    "accuracy = accuracy_score(y_test, y_pred)\n",
    "precision = precision_score(y_test, y_pred, pos_label='fake') # ensure positive class is 'fake'\n",
    "recall = recall_score(y_test, y_pred, pos_label='fake')\n",
    "f1 = f1_score(y_test, y_pred, pos_label='fake')\n",
    "\n",
    "print('Accuracy:', accuracy)\n",
    "print('Precision:', precision)\n",
    "print('Recall:', recall)\n",
    "print('F1 Score:', f1)\n",
    "\n",
    "# -------------      Confusion Matrix      ------------- #\n",
    "cm = confusion_matrix(y_test, y_pred)\n",
    "\n",
    "# plot confusion matrix\n",
    "plt.figure(figsize=(4, 3))\n",
    "sns.heatmap(cm, annot=True, fmt='g', cmap='Greens', \n",
    "            xticklabels=['fake', 'real'],\n",
    "            yticklabels=['fake', 'real'])\n",
    "\n",
    "plt.xlabel('Predicted')\n",
    "plt.ylabel('Actual')\n",
    "plt.show()"
   ]
  },
  {
   "cell_type": "markdown",
   "id": "329495bd-36d6-4490-9be9-4f6cc63f4d57",
   "metadata": {},
   "source": [
    "<h2>Results</h2>\n",
    "<h3>Logistic Regression with Count Vectoriser</h3>\n",
    "<ul>\n",
    "    <li>Accuracy: 0.6760116371330336</li>\n",
    "    <li>Precision: 0.7192924991811334</li>\n",
    "    <li>Recall: 0.8564742589703588</li>\n",
    "    <li>F1 Score: 0.7819120526971693</li>\n",
    "</ul>\n",
    "<h3>Support Vector Machine with Count Vectoriser</h3>\n",
    "<ul>\n",
    "    <li>Accuracy: 0.6553821740280349</li>\n",
    "    <li>Precision: 0.6737393221273078</li>\n",
    "    <li>Recall: 0.9535881435257411</li>\n",
    "    <li>F1 Score: 0.7896011626029389</li>\n",
    "</ul>\n",
    "<h3>Support Vector Machine with Count Vectoriser (Grid Search)</h3>\n",
    "<ul>\n",
    "    <li>Accuracy: 0.6553821740280349</li>\n",
    "    <li>Precision: 0.6737393221273078</li>\n",
    "    <li>Recall: 0.9535881435257411</li>\n",
    "    <li>F1 Score: 0.7896011626029389</li>\n",
    "</ul>\n",
    "<h3>Support Vector Machine with TF-IDF Vectoriser (Grid Search)</h3>\n",
    "<ul>\n",
    "    <li>Accuracy: 0.6474477651414969</li>\n",
    "    <li>Precision: 0.6833482275841525</li>\n",
    "    <li>Recall: 0.8946957878315133</li>\n",
    "    <li>F1 Score: 0.7748691099476438</li>\n",
    "</ul>\n",
    "<h3>Support Vector Machine with TF-IDF Vectoriser (Grid Search, CV=4)</h3>\n",
    "<ul>\n",
    "    <li>Accuracy: 0.7839195979899497</li>\n",
    "    <li>Precision: 0.8647181628392484</li>\n",
    "    <li>Recall: 0.8077223088923557</li>\n",
    "    <li>F1 Score: 0.8352490421455938</li>\n",
    "</ul>"
   ]
  },
  {
   "cell_type": "markdown",
   "id": "35ff5c9f-dc7b-47c4-8fbb-31ba18443d86",
   "metadata": {},
   "source": [
    "<h1>Pipeline 2</h1>"
   ]
  },
  {
   "cell_type": "markdown",
   "id": "c733199b-6143-4e19-b0f0-8cca9bf3931f",
   "metadata": {},
   "source": [
    "Read tab seperated files and store them into dataframe."
   ]
  },
  {
   "cell_type": "code",
   "execution_count": 14,
   "id": "f17abbde-ffa9-4129-8a18-68043ffafe53",
   "metadata": {},
   "outputs": [],
   "source": [
    "mediaeval_train = pd.read_csv('mediaeval-2015-trainingset.txt', sep='\\\\t', engine='python')\n",
    "mediaeval_test = pd.read_csv('mediaeval-2015-testset.txt', sep='\\\\t', engine='python')"
   ]
  },
  {
   "cell_type": "markdown",
   "id": "af32b7ab-0a67-4ced-8e26-e551f6e2df43",
   "metadata": {},
   "source": [
    "<h2>Pre-Processing</h2>"
   ]
  },
  {
   "cell_type": "markdown",
   "id": "4d041662-9067-48c1-8757-e78786c6a2d3",
   "metadata": {},
   "source": [
    "Next, the text needs to be cleaned of any invalid data that contributes to the noise of the dataset. Leaving mentions and only applying this to the training set improved performance. The model may have been able to generalise better as certain patterns may have occurred in fake tweets and real tweets pertaining to the use of mentions. Moreover, working under the assumption of applying pre-processing steps to both the training and test set has been detrimental, this may be due to the size of the training set or a higher prevalence of anomalies found within the test set (e.g. duplicate rows)."
   ]
  },
  {
   "cell_type": "code",
   "execution_count": 15,
   "id": "21d27e94-27e5-4300-857c-bb4c12b0064f",
   "metadata": {},
   "outputs": [
    {
     "name": "stderr",
     "output_type": "stream",
     "text": [
      "/var/folders/d3/pp72ynv541ncyrk24k0dw9wc0000gn/T/ipykernel_7250/2754516690.py:3: MarkupResemblesLocatorWarning: The input looks more like a filename than markup. You may want to open this file and pass the filehandle into Beautiful Soup.\n",
      "  cleaned_tweet = BeautifulSoup(tweet_text, 'html.parser').get_text().replace('\\\\n', '')\n",
      "/var/folders/d3/pp72ynv541ncyrk24k0dw9wc0000gn/T/ipykernel_7250/2754516690.py:3: MarkupResemblesLocatorWarning: The input looks more like a URL than markup. You may want to use an HTTP client like requests to get the document behind the URL, and feed that document to Beautiful Soup.\n",
      "  cleaned_tweet = BeautifulSoup(tweet_text, 'html.parser').get_text().replace('\\\\n', '')\n"
     ]
    }
   ],
   "source": [
    "def clean_tweet(tweet_text):\n",
    "    # remove html artefacts from text\n",
    "    cleaned_tweet = BeautifulSoup(tweet_text, 'html.parser').get_text().replace('\\\\n', '')\n",
    "\n",
    "    # remove URLs\n",
    "    cleaned_tweet = re.sub(r'http\\S+', '', cleaned_tweet)\n",
    "    cleaned_tweet = re.sub(r'\\\\(\\S)*', '', cleaned_tweet)\n",
    "    \n",
    "    # remove non-ASCII characters\n",
    "    cleaned_tweet = re.sub(r'[^\\x00-\\x7F]+', '', cleaned_tweet)\n",
    "    \n",
    "    # remove twitter mentions\n",
    "    # cleaned_tweet = re.sub(r'@\\w+', '', cleaned_tweet)\n",
    "\n",
    "    return cleaned_tweet\n",
    "\n",
    "mediaeval_train['tweetText'] = mediaeval_train['tweetText'].apply(clean_tweet)\n",
    "#mediaeval_test['tweetText'] = mediaeval_test['tweetText'].apply(clean_tweet)"
   ]
  },
  {
   "cell_type": "markdown",
   "id": "0cce1ffd-0413-44cc-912c-8b0ebb2ac278",
   "metadata": {},
   "source": [
    "Remove punctuation only from the training set."
   ]
  },
  {
   "cell_type": "code",
   "execution_count": 16,
   "id": "7b34db7a-2d89-40aa-9319-3ef8e443a3e6",
   "metadata": {},
   "outputs": [],
   "source": [
    "def remove_punctuation(tweet_text):\n",
    "    return re.sub(r'\\s+', ' ', re.sub(r'(?![#@])[^a-zA-Z0-9\\s]', '', tweet_text)).strip()\n",
    "\n",
    "mediaeval_train['tweetText'] = mediaeval_train['tweetText'].apply(remove_punctuation)\n",
    "#mediaeval_test['tweetText'] = mediaeval_test['tweetText'].apply(remove_punctuation)"
   ]
  },
  {
   "cell_type": "markdown",
   "id": "00f96500-5132-40e9-a0fd-19a390978e34",
   "metadata": {},
   "source": [
    "All uppercase characters are converted into their lowercase counterpart."
   ]
  },
  {
   "cell_type": "code",
   "execution_count": 17,
   "id": "74df959d-dfbb-4809-9226-1a3b7b7f9da5",
   "metadata": {},
   "outputs": [],
   "source": [
    "def convert_to_lower(tweet_text):\n",
    "    return tweet_text.lower()\n",
    "\n",
    "mediaeval_train['tweetText'] = mediaeval_train['tweetText'].map(convert_to_lower)\n",
    "mediaeval_test['tweetText'] = mediaeval_test['tweetText'].map(convert_to_lower)"
   ]
  },
  {
   "cell_type": "markdown",
   "id": "121c5a19-a37b-4a74-a364-068d1f790d98",
   "metadata": {},
   "source": [
    "Stop words and twitter artefacts are to be eliminated from the text to reduce the dimensions of the matrix."
   ]
  },
  {
   "cell_type": "code",
   "execution_count": 18,
   "id": "0e592a6a-ffaa-4536-be5f-f08bbe5ca623",
   "metadata": {},
   "outputs": [],
   "source": [
    "tokeniser = TweetTokenizer()\n",
    "\n",
    "def remove_stopwords(tweet_text):\n",
    "    stop_words = set()\n",
    "    twitter_words = ['rt']\n",
    "    \n",
    "    languages = stopwords.fileids()\n",
    "\n",
    "    for lang in languages:\n",
    "        stop_words.update(stopwords.words(lang))\n",
    "    stop_words.update(set(twitter_words))\n",
    "    \n",
    "    tokens = tokeniser.tokenize(tweet_text)\n",
    "    tweet_text = ' '.join([word for word in tokens if word not in stop_words])\n",
    "\n",
    "    return tweet_text\n",
    "\n",
    "mediaeval_train['tweetText'] = mediaeval_train['tweetText'].apply(remove_stopwords)\n",
    "mediaeval_test['tweetText'] = mediaeval_test['tweetText'].apply(remove_stopwords)"
   ]
  },
  {
   "cell_type": "markdown",
   "id": "c84c19c7-006d-48e2-a64d-0f697f87be94",
   "metadata": {},
   "source": [
    "Stem all terms from each document present in the dataframes. "
   ]
  },
  {
   "cell_type": "code",
   "execution_count": 19,
   "id": "62f8ff0e-2bba-4be1-b933-0bad1f58996b",
   "metadata": {},
   "outputs": [],
   "source": [
    "porter = PorterStemmer()\n",
    "\n",
    "def stem_words(tweet_text):\n",
    "    tokens = tokeniser.tokenize(tweet_text)\n",
    "    return ' '.join([porter.stem(word) for word in tokens])\n",
    "\n",
    "mediaeval_train['tweetText'] = mediaeval_train['tweetText'].apply(stem_words)\n",
    "mediaeval_test['tweetText'] = mediaeval_test['tweetText'].apply(stem_words)"
   ]
  },
  {
   "cell_type": "markdown",
   "id": "a6fb7ab5-02d9-4379-b421-6417d7ff438b",
   "metadata": {},
   "source": [
    "Lemmatise all terms from each document."
   ]
  },
  {
   "cell_type": "code",
   "execution_count": 20,
   "id": "36470207-cdd8-415e-8b45-ce81f086c117",
   "metadata": {},
   "outputs": [],
   "source": [
    "lemmatiser = WordNetLemmatizer()\n",
    "\n",
    "def lemmatise_words(tweet_text):\n",
    "    tokens = tokeniser.tokenize(tweet_text)\n",
    "    return ' '.join([lemmatiser.lemmatize(word) for word in tokens])\n",
    "\n",
    "mediaeval_train['tweetText'] = mediaeval_train['tweetText'].apply(lemmatise_words)\n",
    "mediaeval_test['tweetText'] = mediaeval_test['tweetText'].apply(lemmatise_words)"
   ]
  },
  {
   "cell_type": "markdown",
   "id": "6878197a-39d4-4a1d-8370-1dce8296f5c5",
   "metadata": {},
   "source": [
    "Add pre-processed tweets to the dataframe and tweets labeled as <i>humor</i> will be converted into <i>fake</i>."
   ]
  },
  {
   "cell_type": "code",
   "execution_count": 21,
   "id": "14c4ce28-ae3b-4e85-9024-19e9d4155ef4",
   "metadata": {},
   "outputs": [],
   "source": [
    "def convert_humour(df):\n",
    "    df['label'] = df['label'].replace('humor', 'fake')\n",
    "    return df\n",
    "    \n",
    "mediaeval_train = convert_humour(mediaeval_train)\n",
    "mediaeval_test = convert_humour(mediaeval_test)"
   ]
  },
  {
   "cell_type": "markdown",
   "id": "9ee90ca1-0a22-4953-95d2-a2281c9c5a0e",
   "metadata": {},
   "source": [
    "<h2>Model Training</h2>"
   ]
  },
  {
   "cell_type": "code",
   "execution_count": 22,
   "id": "dd50cc3d-f052-42d5-af79-0a22064529c9",
   "metadata": {},
   "outputs": [],
   "source": [
    "# -------------      Training & Testing Data      ------------- #\n",
    "x_train, y_train = mediaeval_train['tweetText'], mediaeval_train['label']\n",
    "x_test, y_test = mediaeval_test['tweetText'], mediaeval_test['label']\n",
    "\n",
    "# encode labels into values\n",
    "label_encoder = LabelEncoder()\n",
    "y_train = label_encoder.fit_transform(y_train)\n",
    "y_test = label_encoder.transform(y_test)\n",
    "\n",
    "# -------------      Parameter Distribution      ------------- #\n",
    "knn_param_dist = {\n",
    "    'n_neighbors': randint(1, 10),\n",
    "    'p': [1, 2]\n",
    "}\n",
    "\n",
    "# -------------      TF-IDF Vectoriser      ------------- #\n",
    "tfidf_vectoriser = TfidfVectorizer(stop_words='english', min_df=4, max_df=0.1, max_features=4000, ngram_range=(1,2))\n",
    "x_train = tfidf_vectoriser.fit_transform(x_train)\n",
    "x_test = tfidf_vectoriser.transform(x_test)\n",
    "\n",
    "# -------------      Estimator       ------------- #\n",
    "# helped narrow down the best params for KNN\n",
    "#knn_classifier = KNeighborsClassifier()\n",
    "\n",
    "#random_search_knn = RandomizedSearchCV(knn_classifier, param_distributions=knn_param_dist, n_iter=10, cv=5, scoring='f1', n_jobs=-1)\n",
    "#random_search.fit(x_train, y_train)\n",
    "\n",
    "#best_params_knn = random_search.best_estimator_.get_params()\n",
    "\n",
    "#print(best_params_knn)\n",
    "\n",
    "# -------------      Multinomial Naive Bayes      ------------- #\n",
    "#mnb_classifier = MultinomialNB()\n",
    "#mnb_classifier.fit(x_train, y_train)\n",
    "\n",
    "#y_pred = mnb_classifier.predict(x_test)\n",
    "\n",
    "# -------------      K-Nearest Neighbour      ------------- #\n",
    "knn_classifier = KNeighborsClassifier(n_neighbors=1, p=2)\n",
    "knn_classifier.fit(x_train, y_train)\n",
    "\n",
    "y_pred = knn_classifier.predict(x_test)\n",
    "\n",
    "# -------------      Logistic Regression      ------------- #\n",
    "#logistic_regression = LogisticRegression()\n",
    "#logistic_regression.fit(x_train, y_train)\n",
    "\n",
    "#y_pred = logistic_regression.predict(x_test)\n",
    "\n",
    "# -------------      Stochastic Gradient Descent      ------------- #\n",
    "#sgd_classifier = SGDClassifier()\n",
    "#sgd_classifier.fit(x_train, y_train)\n",
    "\n",
    "#y_pred = sgd_classifier.predict(x_test)"
   ]
  },
  {
   "cell_type": "markdown",
   "id": "7e9e534e-83cb-41ad-8948-99292ee5cdea",
   "metadata": {},
   "source": [
    "<h2>Evaluation</h2>"
   ]
  },
  {
   "cell_type": "code",
   "execution_count": 23,
   "id": "517c21db-c17e-463a-afae-8ec65b1bc87f",
   "metadata": {},
   "outputs": [
    {
     "name": "stdout",
     "output_type": "stream",
     "text": [
      "Accuracy: 0.8952658026976991\n",
      "Precision: 0.8896477354421279\n",
      "Recall: 0.9652886115444618\n",
      "F1 Score: 0.9259259259259259\n"
     ]
    },
    {
     "data": {
      "image/png": "[encoded data removed]",
      "text/plain": [
       "<Figure size 400x300 with 2 Axes>"
      ]
     },
     "metadata": {},
     "output_type": "display_data"
    }
   ],
   "source": [
    "# decode values into labels\n",
    "y_test = label_encoder.inverse_transform(y_test)\n",
    "y_pred = label_encoder.inverse_transform(y_pred)\n",
    "\n",
    "# -------------      Evaluation      ------------- #\n",
    "accuracy = accuracy_score(y_test, y_pred)\n",
    "precision = precision_score(y_test, y_pred, pos_label='fake')\n",
    "recall = recall_score(y_test, y_pred, pos_label='fake')\n",
    "f1 = f1_score(y_test, y_pred, pos_label='fake')\n",
    "\n",
    "print('Accuracy:', accuracy)\n",
    "print('Precision:', precision)\n",
    "print('Recall:', recall)\n",
    "print('F1 Score:', f1)\n",
    "\n",
    "# -------------      Confusion Matrix      ------------- #\n",
    "cm = confusion_matrix(y_test, y_pred)\n",
    "\n",
    "plt.figure(figsize=(4, 3))\n",
    "sns.heatmap(cm, annot=True, fmt='g', cmap='Greens', \n",
    "            xticklabels=['fake', 'real'],\n",
    "            yticklabels=['fake', 'real'])\n",
    "\n",
    "plt.xlabel('Predicted')\n",
    "plt.ylabel('Actual')\n",
    "plt.show()"
   ]
  },
  {
   "cell_type": "markdown",
   "id": "c1db86ba-f4c5-4e4c-b1df-e265e2d9d94c",
   "metadata": {},
   "source": [
    "<h2>Results</h2>\n",
    "<h3>Multinomial Naive Bayes with TF-IDF Vectoriser</h3>\n",
    "<ul>\n",
    "    <li>Accuracy: 0.887595874107379</li>\n",
    "    <li>Precision: 0.9049602423324499</li>\n",
    "    <li>Recall: 0.9321372854914196</li>\n",
    "    <li>F1 Score: 0.9183477425552354</li>\n",
    "</ul>\n",
    "<h3>K-Nearest Neighbours with TF-IDF Vectoriser</h3>\n",
    "<ul>\n",
    "    <li>Accuracy: 0.8952658026976991</li>\n",
    "    <li>Precision: 0.8896477354421279</li>\n",
    "    <li>Recall: 0.9652886115444618</li>\n",
    "    <li>F1 Score: 0.9259259259259259</li>\n",
    "</ul>\n",
    "<h3>Logistic Regression with TF-IDF Vectoriser</h3>\n",
    "<ul>\n",
    "    <li>Accuracy: 0.8828352287754563</li>\n",
    "    <li>Precision: 0.8955613577023499</li>\n",
    "    <li>Recall: 0.9364274570982839</li>\n",
    "    <li>F1 Score: 0.915538608198284</li>\n",
    "</ul>\n",
    "<h3>Stochastic Gradient Descent with TF-IDF Vectoriser</h3>\n",
    "<ul>\n",
    "    <li>Average Accuracy: 0.8816715154720974</li>\n",
    "    <li>Average Precision: 0.8946228786721651</li>\n",
    "    <li>Average Recall: 0.9357254290171605</li>\n",
    "    <li>Average F1 Score: 0.9147108432643783</li>\n",
    "</ul>"
   ]
  }
 ],
 "metadata": {
  "kernelspec": {
   "display_name": "Python 3 (ipykernel)",
   "language": "python",
   "name": "python3"
  },
  "language_info": {
   "codemirror_mode": {
    "name": "ipython",
    "version": 3
   },
   "file_extension": ".py",
   "mimetype": "text/x-python",
   "name": "python",
   "nbconvert_exporter": "python",
   "pygments_lexer": "ipython3",
   "version": "3.11.5"
  }
 },
 "nbformat": 4,
 "nbformat_minor": 5
}
